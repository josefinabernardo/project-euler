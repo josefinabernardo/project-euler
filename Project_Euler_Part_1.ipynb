{
  "nbformat": 4,
  "nbformat_minor": 0,
  "metadata": {
    "colab": {
      "provenance": [],
      "include_colab_link": true
    },
    "kernelspec": {
      "name": "python3",
      "display_name": "Python 3"
    },
    "language_info": {
      "name": "python"
    }
  },
  "cells": [
    {
      "cell_type": "markdown",
      "metadata": {
        "id": "view-in-github",
        "colab_type": "text"
      },
      "source": [
        "<a href=\"https://colab.research.google.com/github/josefinabernardo/project-euler/blob/main/Project_Euler_Part_1.ipynb\" target=\"_parent\"><img src=\"https://colab.research.google.com/assets/colab-badge.svg\" alt=\"Open In Colab\"/></a>"
      ]
    },
    {
      "cell_type": "markdown",
      "source": [
        "#Project Euler - Part 1\n",
        "This notebook includes my solutions to problems 2, 8, 13, and 22 of the Project Euler competition held on HackerRank. I include a short description of each problem and demonstrate how the code works on the sample inputs from HackerRank."
      ],
      "metadata": {
        "id": "u03R5_Yb1T44"
      }
    },
    {
      "cell_type": "code",
      "source": [
        "import sys\n",
        "import math"
      ],
      "metadata": {
        "id": "F9QLJfSezWm5"
      },
      "execution_count": null,
      "outputs": []
    },
    {
      "cell_type": "markdown",
      "source": [
        "## Problem 2: Even Fibonacci numbers\n",
        "By considering the terms in the Fibonacci sequence whose values do not exceed **N**, find the sum of the even-valued terms."
      ],
      "metadata": {
        "id": "Hipbb7zGyVGB"
      }
    },
    {
      "cell_type": "code",
      "execution_count": null,
      "metadata": {
        "colab": {
          "base_uri": "https://localhost:8080/"
        },
        "id": "YTWok6Cov6gR",
        "outputId": "7ef83779-6fe1-4b0e-dc41-ab387456f1fa"
      },
      "outputs": [
        {
          "output_type": "stream",
          "name": "stdout",
          "text": [
            "2\n",
            "10\n",
            "10\n",
            "100\n",
            "44\n"
          ]
        }
      ],
      "source": [
        "# Problem 2: Even Fibonacci numbers\n",
        "t = int(input().strip())\n",
        "for a0 in range(t):\n",
        "    n = int(input().strip())\n",
        "    seq = [1,2,3,5,8]\n",
        "    while seq[-1] + seq[-2] <= n:\n",
        "        seq.append(seq[-1]+seq[-2])\n",
        "    seqlist = [i for i in seq if i%2 == 0]\n",
        "    print(sum(seqlist))"
      ]
    },
    {
      "cell_type": "markdown",
      "source": [
        "**Explanation:** We specify the number of input lines (2) and then input an N (here 10 and 100) on each line. The code outputs the sum of even Fibonacci numbers below N (2 + 8 = 10, 2 + 8 + 34 = 44)."
      ],
      "metadata": {
        "id": "LdfsNs2X2UGm"
      }
    },
    {
      "cell_type": "markdown",
      "source": [
        "##Problem 8: Largest product in a series\n",
        "Find the greatest product of **K** consecutive digits in the **N** digit number."
      ],
      "metadata": {
        "id": "TnsVdcnQygzx"
      }
    },
    {
      "cell_type": "code",
      "source": [
        "# Problem 8: Largest product in a series\n",
        "t = int(input().strip())\n",
        "for a0 in range(t):\n",
        "    n,k = input().strip().split(' ')\n",
        "    n,k = [int(n),int(k)]\n",
        "    num = input().strip()\n",
        "    num = [int(d) for d in str(num)]\n",
        "    print(max([math.prod(num[s:e]) for s,e in zip(range(0,n-k+1),range(k,n+1))]))"
      ],
      "metadata": {
        "colab": {
          "base_uri": "https://localhost:8080/"
        },
        "id": "Uu0ExqscwZzM",
        "outputId": "7795e454-c9ff-48f0-baf8-6127b7db9b80"
      },
      "execution_count": null,
      "outputs": [
        {
          "output_type": "stream",
          "name": "stdout",
          "text": [
            "2\n",
            "10 5\n",
            "3675356291\n",
            "3150\n",
            "10 5\n",
            "2709360626\n",
            "0\n"
          ]
        }
      ]
    },
    {
      "cell_type": "markdown",
      "source": [
        "**Explanation:** We specify the number of input lines (2) and then input an N, a K, and the number to calculate the product for. The code outputs the products. For the second number, the maximum product is 0 because each possible consecutive 5 numbers contain 0."
      ],
      "metadata": {
        "id": "1cdl5v394OWu"
      }
    },
    {
      "cell_type": "markdown",
      "source": [
        "##Problem 13: Large sum\n",
        "Work out the first ten digits of the sum of **N 50-digit** numbers."
      ],
      "metadata": {
        "id": "1oOUqQGPyiDi"
      }
    },
    {
      "cell_type": "code",
      "source": [
        "# Problem 13: Large sum\n",
        "n = int(input().strip())\n",
        "my_sum = 0\n",
        "for a0 in range(n):\n",
        "    num = int(input().strip())\n",
        "    my_sum += num\n",
        "print(int(str(my_sum)[0:10]))"
      ],
      "metadata": {
        "colab": {
          "base_uri": "https://localhost:8080/"
        },
        "id": "HB2hKQgQwfDT",
        "outputId": "7aaf04d8-dae2-4242-e76c-377ccb60e3d7"
      },
      "execution_count": null,
      "outputs": [
        {
          "output_type": "stream",
          "name": "stdout",
          "text": [
            "5\n",
            "37107287533902102798797998220837590246510135740250\n",
            "46376937677490009712648124896970078050417018260538\n",
            "74324986199524741059474233309513058123726617309629\n",
            "91942213363574161572522430563301811072406154908250\n",
            "23067588207539346171171980310421047513778063246676\n",
            "2728190129\n"
          ]
        }
      ]
    },
    {
      "cell_type": "markdown",
      "source": [
        "**Explanation:** We specify the number of input lines (5) and then input the 50 digit numbers. The code outputs the first 10 digits of their sum."
      ],
      "metadata": {
        "id": "lYcs8Q7R4_3n"
      }
    },
    {
      "cell_type": "markdown",
      "source": [
        "##Problem 22: Names scores\n",
        "You are given around five-thousand first names, begin by sorting it into alphabetical order. Then working out the alphabetical value for each name, multiply this value by its alphabetical position in the list to obtain a name score."
      ],
      "metadata": {
        "id": "_mmi9VczyjF4"
      }
    },
    {
      "cell_type": "code",
      "source": [
        "# Problem 22: Names scores\n",
        "n = int(input().strip())\n",
        "name_list = []\n",
        "for a0 in range(n):\n",
        "    name = input().strip()\n",
        "    name_list.append(name)\n",
        "q = int(input().strip())\n",
        "for b0 in range(q):\n",
        "    query = str(input().strip())\n",
        "    print(sum([ord(l)-ord(\"A\")+1 for l in query])*(sorted(name_list).index(query)+1))"
      ],
      "metadata": {
        "colab": {
          "base_uri": "https://localhost:8080/"
        },
        "id": "TM-b6qWFwj8f",
        "outputId": "1674c8a7-d91c-4fcf-8fb6-f759f45de7b5"
      },
      "execution_count": null,
      "outputs": [
        {
          "output_type": "stream",
          "name": "stdout",
          "text": [
            "5\n",
            "ALEX\n",
            "LUIS\n",
            "JAMES\n",
            "BRIAN\n",
            "PAMELA\n",
            "1\n",
            "PAMELA\n",
            "240\n"
          ]
        }
      ]
    },
    {
      "cell_type": "markdown",
      "source": [
        "**Explanation:** First, we specify the number of names (5) and then input the names. Second, we specify the number of queries (1) and the name(s) to query. The code multiplies the alphabetical value of the queried name (e.g. PAMELA becomes 16+1+13+5+12+1 = 48) with its position. After sorting the list alphabetically, Pamela is still the fifth name on the list so by multiplying we obtain 240 (5*48 = 240)."
      ],
      "metadata": {
        "id": "ubVzgegC5ylW"
      }
    }
  ]
}